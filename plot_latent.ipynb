{
 "cells": [
  {
   "cell_type": "code",
   "execution_count": 16,
   "metadata": {},
   "outputs": [],
   "source": [
    "import numpy as np\n",
    "import pandas as pd\n",
    "\n",
    "import tensorflow as tf\n",
    "from tensorflow.keras.models import load_model\n",
    "\n",
    "from sklearn.manifold import TSNE\n",
    "\n",
    "import matplotlib.pyplot as plt\n",
    "import seaborn as sns"
   ]
  },
  {
   "cell_type": "code",
   "execution_count": 10,
   "metadata": {},
   "outputs": [],
   "source": [
    "X = np.load(\"X_train.npy\")\n",
    "y = np.load(\"processed_data/y.npy\")"
   ]
  },
  {
   "cell_type": "code",
   "execution_count": 11,
   "metadata": {},
   "outputs": [
    {
     "name": "stdout",
     "output_type": "stream",
     "text": [
      "WARNING:tensorflow:Sequential models without an `input_shape` passed to the first layer cannot reload their optimizer state. As a result, your model isstarting with a freshly initialized optimizer.\n"
     ]
    }
   ],
   "source": [
    "model = load_model(\"test_model\")"
   ]
  },
  {
   "cell_type": "code",
   "execution_count": 32,
   "metadata": {},
   "outputs": [],
   "source": [
    "preds = model.predict(X)"
   ]
  },
  {
   "cell_type": "code",
   "execution_count": 41,
   "metadata": {},
   "outputs": [],
   "source": [
    "import tensorflow as tf\n",
    "from tensorflow.keras import backend as K\n",
    "from tensorflow.keras.models import Sequential\n",
    "\n",
    "# Creating a keras model\n",
    "def build_model(input_shape, n_layers, filters, kernel_size, pool_size, activation, n_classes, dropout, learning_rate, loss):\n",
    "    rows, cols = input_shape\n",
    "    layers = []\n",
    "    for i in range(n_layers - 1):\n",
    "        layers.append(tf.keras.layers.Conv2D(filters = filters, \n",
    "                                          kernel_size = kernel_size,\n",
    "                                          activation = activation))\n",
    "        layers.append(tf.keras.layers.MaxPooling2D(pool_size = pool_size))\n",
    "    layers.append(tf.keras.layers.Conv2D(filters = 1,\n",
    "                                      kernel_size = (1, 1),\n",
    "                                      activation = activation))\n",
    "    layers.append(tf.keras.layers.Flatten())\n",
    "    layers.append(tf.keras.layers.Dense(32, activation='relu'))\n",
    "    if dropout:\n",
    "        layers.append(tf.keras.layers.Dropout(dropout))\n",
    "    layers.append(tf.keras.layers.Dense(n_classes, activation='softmax'))\n",
    "    model = Sequential(layers)\n",
    "    model.build((None, rows, cols, 1))\n",
    "    opt = tf.keras.optimizers.Adam(learning_rate=learning_rate)\n",
    "    model.compile(optimizer = opt, \n",
    "                  loss = loss \n",
    "                  #metrics = [auroc]\n",
    "                  )\n",
    "    session = tf.compat.v1.keras.backend.get_session()\n",
    "    # Reinitializing model everytime build_model is called\n",
    "    for layer in model.layers:\n",
    "        if hasattr(layer, 'cell'):\n",
    "            init_container = layer.cell\n",
    "        else:\n",
    "            init_container = layer\n",
    "        for key, initializer in init_container.__dict__.items():\n",
    "            if \"initializer\" not in key: #is this item an initializer?\n",
    "                  continue #if no, skip it\n",
    "            var = getattr(init_container, key.replace(\"_initializer\", \"\"))\n",
    "            var.assign(initializer(var.shape, var.dtype))\n",
    "    return model"
   ]
  },
  {
   "cell_type": "code",
   "execution_count": 67,
   "metadata": {},
   "outputs": [],
   "source": [
    "params = {'activation': 'elu',\n",
    "         'dropout': 0.3,\n",
    "         'filters': 100,\n",
    "         'input_shape': (84, 24),\n",
    "         'kernel_size': (3, 5),\n",
    "         'learning_rate': 0.001,\n",
    "         'loss': 'mse',\n",
    "         'n_classes': 2,\n",
    "         'n_layers': 2,\n",
    "         'pool_size': (2, 2)}"
   ]
  },
  {
   "cell_type": "code",
   "execution_count": 65,
   "metadata": {},
   "outputs": [],
   "source": [
    "random_model = build_model(**params)"
   ]
  },
  {
   "cell_type": "code",
   "execution_count": 45,
   "metadata": {},
   "outputs": [],
   "source": [
    "for i in range(0):\n",
    "    print(i)"
   ]
  },
  {
   "cell_type": "code",
   "execution_count": 66,
   "metadata": {},
   "outputs": [
    {
     "name": "stdout",
     "output_type": "stream",
     "text": [
      "Model: \"sequential_7\"\n",
      "_________________________________________________________________\n",
      "Layer (type)                 Output Shape              Param #   \n",
      "=================================================================\n",
      "conv2d_13 (Conv2D)           multiple                  1600      \n",
      "_________________________________________________________________\n",
      "max_pooling2d_6 (MaxPooling2 multiple                  0         \n",
      "_________________________________________________________________\n",
      "conv2d_14 (Conv2D)           multiple                  150100    \n",
      "_________________________________________________________________\n",
      "max_pooling2d_7 (MaxPooling2 multiple                  0         \n",
      "_________________________________________________________________\n",
      "conv2d_15 (Conv2D)           multiple                  101       \n",
      "_________________________________________________________________\n",
      "flatten_7 (Flatten)          multiple                  0         \n",
      "_________________________________________________________________\n",
      "dense_14 (Dense)             multiple                  1856      \n",
      "_________________________________________________________________\n",
      "dropout_7 (Dropout)          multiple                  0         \n",
      "_________________________________________________________________\n",
      "dense_15 (Dense)             multiple                  66        \n",
      "=================================================================\n",
      "Total params: 153,723\n",
      "Trainable params: 153,723\n",
      "Non-trainable params: 0\n",
      "_________________________________________________________________\n"
     ]
    }
   ],
   "source": [
    "random_model.summary()"
   ]
  }
 ],
 "metadata": {
  "kernelspec": {
   "display_name": "Python 3",
   "language": "python",
   "name": "python3"
  },
  "language_info": {
   "codemirror_mode": {
    "name": "ipython",
    "version": 3
   },
   "file_extension": ".py",
   "mimetype": "text/x-python",
   "name": "python",
   "nbconvert_exporter": "python",
   "pygments_lexer": "ipython3",
   "version": "3.7.9"
  }
 },
 "nbformat": 4,
 "nbformat_minor": 4
}
