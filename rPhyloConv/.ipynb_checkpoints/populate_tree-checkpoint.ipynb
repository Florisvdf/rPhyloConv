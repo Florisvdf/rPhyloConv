{
 "cells": [
  {
   "cell_type": "code",
   "execution_count": 68,
   "metadata": {},
   "outputs": [],
   "source": [
    "from Bio import Phylo\n",
    "import numpy as np\n",
    "import re\n",
    "import pandas as pd\n",
    "\n",
    "import matplotlib.pyplot as plt\n",
    "\n",
    "from sklearn.preprocessing import scale,minmax_scale, MinMaxScaler\n",
    "from sklearn.base import BaseEstimator, RegressorMixin, TransformerMixin"
   ]
  },
  {
   "cell_type": "code",
   "execution_count": 4,
   "metadata": {},
   "outputs": [],
   "source": [
    "def tabulate_names(tree):\n",
    "    names = {}\n",
    "    for idx, clade in enumerate(tree.find_clades()):\n",
    "        if clade.name:\n",
    "            clade.name = \"%d_%s\" % (idx, clade.name)\n",
    "        else:\n",
    "            clade.name = str(idx)\n",
    "        names[clade.name] = clade\n",
    "    return names"
   ]
  },
  {
   "cell_type": "code",
   "execution_count": 5,
   "metadata": {},
   "outputs": [],
   "source": [
    "def is_list_empty(inList):\n",
    "    if isinstance(inList, list):\n",
    "        return all(map(is_list_empty, inList) )\n",
    "    return False"
   ]
  },
  {
   "cell_type": "code",
   "execution_count": 6,
   "metadata": {},
   "outputs": [],
   "source": [
    "def get_level_dict(tree, features):\n",
    "    level_dict = {}\n",
    "    level = 0\n",
    "    at_bottom = False\n",
    "    new_children = []\n",
    "    child_name_list = []\n",
    "\n",
    "    root = list(tree.find_clades(order=\"level\"))[0]\n",
    "    last_children = root.clades\n",
    "    while not at_bottom:\n",
    "        level+= 1\n",
    "        for child in last_children:\n",
    "            child_name = child.name\n",
    "            if len(child_name.split(\"_\")) == 2:\n",
    "                zotu_name = child_name.split(\"_\")[1]\n",
    "                if zotu_name in features:\n",
    "                    features.remove(zotu_name)\n",
    "                    child_name_list.append(zotu_name)\n",
    "            child_children = child.clades\n",
    "            new_children+= child_children\n",
    "        if is_list_empty(new_children):\n",
    "            at_bottom = True\n",
    "        level_dict[level] = child_name_list\n",
    "        last_children = new_children\n",
    "        new_children = []\n",
    "        child_name_list = []\n",
    "    level_dict = dict(filter(is_level_populated, level_dict.items()))\n",
    "    return level_dict"
   ]
  },
  {
   "cell_type": "code",
   "execution_count": 7,
   "metadata": {},
   "outputs": [],
   "source": [
    "def zotu_in_name(clade):\n",
    "    if \"Zotu\" in clade:\n",
    "        return True\n",
    "    else:\n",
    "        return False"
   ]
  },
  {
   "cell_type": "code",
   "execution_count": 8,
   "metadata": {},
   "outputs": [],
   "source": [
    "def filter_line(line):\n",
    "    new_line = re.sub(r\":\\d\\.*\\d*e-\\d+\", '', line)\n",
    "    new_line = re.sub(r\":\\d\\.\\d+\", '', new_line)\n",
    "    new_line = re.sub(r\"\\d\\.\\d+\", '', new_line)\n",
    "    return new_line"
   ]
  },
  {
   "cell_type": "code",
   "execution_count": 9,
   "metadata": {},
   "outputs": [],
   "source": [
    "def is_level_populated(x):\n",
    "    return x[1] != []"
   ]
  },
  {
   "cell_type": "code",
   "execution_count": 10,
   "metadata": {},
   "outputs": [],
   "source": [
    "def get_length(x):\n",
    "    return len(x)"
   ]
  },
  {
   "cell_type": "code",
   "execution_count": 11,
   "metadata": {},
   "outputs": [],
   "source": [
    "def get_width(tree_dict):\n",
    "    return max(list(map(get_length, tree_dict.values())))"
   ]
  },
  {
   "cell_type": "code",
   "execution_count": 12,
   "metadata": {},
   "outputs": [],
   "source": [
    "def get_height(tree_dict):\n",
    "    return len(tree_dict.keys())"
   ]
  },
  {
   "cell_type": "code",
   "execution_count": 13,
   "metadata": {},
   "outputs": [],
   "source": [
    "def create_lookup_table(tree_dict):\n",
    "    lookup_dict = {}\n",
    "    y = 0\n",
    "    for key, value in tree_dict.items():\n",
    "        for zotu in value:\n",
    "            x = value.index(zotu)\n",
    "            lookup_dict[zotu] = (x, y)\n",
    "        y += 1\n",
    "    return lookup_dict"
   ]
  },
  {
   "cell_type": "code",
   "execution_count": 14,
   "metadata": {},
   "outputs": [],
   "source": [
    "def get_row(x):\n",
    "    return x[1]\n",
    "def get_col(x):\n",
    "    return x[0]"
   ]
  },
  {
   "cell_type": "code",
   "execution_count": 15,
   "metadata": {},
   "outputs": [],
   "source": [
    "def samples_to_matrices(samples, lookup_table):\n",
    "    phylo_matrix_list = []\n",
    "    rows = list(map(get_row, lookup_table.values()))\n",
    "    cols = list(map(get_col, lookup_table.values()))\n",
    "    for i in range(len(samples)):\n",
    "        sample = samples.iloc[i]\n",
    "        phylo_matrix = np.zeros((get_height(tree_dict), get_width(tree_dict)))\n",
    "        abundances = sample.loc[list(lookup_table.keys())].values\n",
    "        phylo_matrix[rows, cols] = abundances\n",
    "        phylo_matrix_list.append(phylo_matrix)\n",
    "    phylo_matrices = np.array(phylo_matrix_list)\n",
    "    return phylo_matrices"
   ]
  },
  {
   "cell_type": "code",
   "execution_count": 100,
   "metadata": {},
   "outputs": [],
   "source": [
    "class TreeBuilder(TransformerMixin, BaseEstimator):\n",
    "    \n",
    "    def __init__(self, tree_path):\n",
    "        self.tree = Phylo.read(tree_path, format = \"newick\")\n",
    "        self.clades = self.tabulate_names(self.tree)\n",
    "    \n",
    "    def get_row(self, x):\n",
    "        return x[1]\n",
    "    \n",
    "    def get_col(self, x):\n",
    "        return x[0]\n",
    "        \n",
    "    def is_level_populated(self, x):\n",
    "        return x[1] != []\n",
    "    \n",
    "    def is_list_empty(self, inList):\n",
    "        if isinstance(inList, list):\n",
    "            return all(map(is_list_empty, inList) )\n",
    "        return False\n",
    "    \n",
    "    def tabulate_names(self, tree):\n",
    "        names = {}\n",
    "        for idx, clade in enumerate(tree.find_clades()):\n",
    "            if clade.name:\n",
    "                clade.name = \"%d_%s\" % (idx, clade.name)\n",
    "            else:\n",
    "                clade.name = str(idx)\n",
    "            names[clade.name] = clade\n",
    "        return names\n",
    "\n",
    "    def get_level_dict(self, tree, features):\n",
    "        level_dict = {}\n",
    "        level = 0\n",
    "        at_bottom = False\n",
    "        new_children = []\n",
    "        child_name_list = []\n",
    "\n",
    "        root = list(tree.find_clades(order=\"level\"))[0]\n",
    "        last_children = root.clades\n",
    "        while not at_bottom:\n",
    "            level+= 1\n",
    "            for child in last_children:\n",
    "                child_name = child.name\n",
    "                if len(child_name.split(\"_\")) == 2:\n",
    "                    zotu_name = child_name.split(\"_\")[1]\n",
    "                    if zotu_name in features:\n",
    "                        features.remove(zotu_name)\n",
    "                        child_name_list.append(zotu_name)\n",
    "                child_children = child.clades\n",
    "                new_children+= child_children\n",
    "            if self.is_list_empty(new_children):\n",
    "                at_bottom = True\n",
    "            level_dict[level] = child_name_list\n",
    "            last_children = new_children\n",
    "            new_children = []\n",
    "            child_name_list = []\n",
    "        level_dict = dict(filter(is_level_populated, level_dict.items()))\n",
    "        return level_dict\n",
    "    \n",
    "    def create_lookup_table(self, tree_dict):\n",
    "        lookup_dict = {}\n",
    "        y = 0\n",
    "        for key, value in tree_dict.items():\n",
    "            for zotu in value:\n",
    "                x = value.index(zotu)\n",
    "                lookup_dict[zotu] = (x, y)\n",
    "            y += 1\n",
    "        return lookup_dict\n",
    "    \n",
    "    def samples_to_matrices(self, samples, lookup_table):\n",
    "        phylo_matrix_list = []\n",
    "        rows = list(map(get_row, lookup_table.values()))\n",
    "        cols = list(map(get_col, lookup_table.values()))\n",
    "        for i in range(len(samples)):\n",
    "            sample = samples.iloc[i]\n",
    "            phylo_matrix = np.zeros((get_height(tree_dict), get_width(tree_dict)))\n",
    "            abundances = sample.loc[list(lookup_table.keys())].values\n",
    "            phylo_matrix[rows, cols] = abundances\n",
    "            phylo_matrix_list.append(phylo_matrix)\n",
    "        phylo_matrices = np.array(phylo_matrix_list)\n",
    "        return phylo_matrices\n",
    "    \n",
    "    def fit(self, X, y):\n",
    "        self.features = list(X.columns)\n",
    "        level_dict = self.get_level_dict(self.tree, self.features)\n",
    "        self.lookup_table = create_lookup_table(level_dict)\n",
    "        X = samples_to_matrices(X, self.lookup_table)\n",
    "        X = np.log(X+1)\n",
    "        self.scaler = MinMaxScaler()\n",
    "        original_shape = X.shape\n",
    "        self.scaler.fit(X.reshape(-1, original_shape[1]*original_shape[2]))\n",
    "        return self\n",
    "        \n",
    "    def transform(self, X):\n",
    "        X = samples_to_matrices(X, self.lookup_table)\n",
    "        X = np.log(X+1)\n",
    "        original_shape = X.shape\n",
    "        X = self.scaler.transform(X.reshape(-1, original_shape[1]*original_shape[2])).reshape(original_shape)\n",
    "        X = np.cip(X, 0, 1)\n",
    "        return X"
   ]
  },
  {
   "cell_type": "markdown",
   "metadata": {},
   "source": [
    "# Loading X"
   ]
  },
  {
   "cell_type": "code",
   "execution_count": 18,
   "metadata": {},
   "outputs": [
    {
     "name": "stdout",
     "output_type": "stream",
     "text": [
      "Finished\n"
     ]
    }
   ],
   "source": [
    "X_train_df = pd.read_csv(\"input_data/HELUIS.Thyroid.otu_table.csv\", index_col = 0)\n",
    "print(\"Finished\")"
   ]
  },
  {
   "cell_type": "code",
   "execution_count": 19,
   "metadata": {},
   "outputs": [],
   "source": [
    "X_train_df = X_train_df.transpose()"
   ]
  },
  {
   "cell_type": "code",
   "execution_count": 20,
   "metadata": {},
   "outputs": [],
   "source": [
    "X_train_df = X_train_df.loc[:, (X_train_df != X_train_df.iloc[0]).any()] \n",
    "X_train_df = X_train_df.iloc[:, :450]"
   ]
  },
  {
   "cell_type": "code",
   "execution_count": 101,
   "metadata": {},
   "outputs": [],
   "source": [
    "tree_path = \"input_data/HELUIS.Thyroid.phy_tree.tree\"\n",
    "tree_builder = TreeBuilder(tree_path)"
   ]
  },
  {
   "cell_type": "code",
   "execution_count": 102,
   "metadata": {},
   "outputs": [
    {
     "name": "stderr",
     "output_type": "stream",
     "text": [
      "C:\\Users\\Flori\\anaconda3\\envs\\tenv\\lib\\site-packages\\sklearn\\base.py:209: FutureWarning: From version 0.24, get_params will raise an AttributeError if a parameter cannot be retrieved as an instance attribute. Previously it would return None.\n",
      "  warnings.warn('From version 0.24, get_params will raise an '\n"
     ]
    },
    {
     "data": {
      "text/plain": [
       "TreeBuilder(tree_path=None)"
      ]
     },
     "execution_count": 102,
     "metadata": {},
     "output_type": "execute_result"
    }
   ],
   "source": [
    "tree_builder.fit(X_train_df, y = None)"
   ]
  },
  {
   "cell_type": "code",
   "execution_count": 103,
   "metadata": {},
   "outputs": [],
   "source": [
    "transformed = tree_builder.transform(X_train_df)"
   ]
  },
  {
   "cell_type": "code",
   "execution_count": 88,
   "metadata": {},
   "outputs": [
    {
     "data": {
      "text/plain": [
       "(2097, 48, 28)"
      ]
     },
     "execution_count": 88,
     "metadata": {},
     "output_type": "execute_result"
    }
   ],
   "source": [
    "transformed.shape"
   ]
  },
  {
   "cell_type": "code",
   "execution_count": 78,
   "metadata": {},
   "outputs": [
    {
     "data": {
      "text/plain": [
       "array([[0., 0., 0., 0., 0., 0., 0., 0., 0., 0., 0., 0.],\n",
       "       [0., 0., 0., 0., 0., 0., 0., 0., 0., 0., 0., 0.]])"
      ]
     },
     "execution_count": 78,
     "metadata": {},
     "output_type": "execute_result"
    }
   ],
   "source": [
    "a = np.zeros((2,4,3))\n",
    "a.reshape(2,12)"
   ]
  },
  {
   "cell_type": "code",
   "execution_count": 104,
   "metadata": {},
   "outputs": [
    {
     "data": {
      "text/plain": [
       "<matplotlib.image.AxesImage at 0x1a5ba6bc700>"
      ]
     },
     "execution_count": 104,
     "metadata": {},
     "output_type": "execute_result"
    },
    {
     "data": {
      "image/png": "[encoded data removed]",
      "text/plain": [
       "<Figure size 432x288 with 1 Axes>"
      ]
     },
     "metadata": {
      "needs_background": "light"
     },
     "output_type": "display_data"
    }
   ],
   "source": [
    "plt.imshow(transformed[0])"
   ]
  },
  {
   "cell_type": "code",
   "execution_count": 31,
   "metadata": {},
   "outputs": [],
   "source": [
    "features = list(X_train_df.columns)"
   ]
  },
  {
   "cell_type": "code",
   "execution_count": 32,
   "metadata": {},
   "outputs": [],
   "source": [
    "tree_dict = get_level_dict(tree, features)"
   ]
  },
  {
   "cell_type": "code",
   "execution_count": 34,
   "metadata": {},
   "outputs": [],
   "source": [
    "lookup_table = create_lookup_table(tree_dict)"
   ]
  },
  {
   "cell_type": "code",
   "execution_count": 35,
   "metadata": {},
   "outputs": [],
   "source": [
    "phylo_matrix = np.zeros((get_width(tree_dict), get_height(tree_dict)))"
   ]
  },
  {
   "cell_type": "code",
   "execution_count": 97,
   "metadata": {},
   "outputs": [],
   "source": [
    "matrices = samples_to_matrices(X_train_df, lookup_table)"
   ]
  },
  {
   "cell_type": "code",
   "execution_count": 37,
   "metadata": {},
   "outputs": [
    {
     "data": {
      "text/plain": [
       "(2097, 48, 28)"
      ]
     },
     "execution_count": 37,
     "metadata": {},
     "output_type": "execute_result"
    }
   ],
   "source": [
    "matrices.shape"
   ]
  },
  {
   "cell_type": "code",
   "execution_count": 98,
   "metadata": {},
   "outputs": [],
   "source": [
    "m_shape = matrices.shape\n",
    "matrices = np.log(matrices + 1)\n",
    "scaled_matrices = minmax_scale(matrices.reshape(2097, -1)).reshape(m_shape)"
   ]
  },
  {
   "cell_type": "code",
   "execution_count": 99,
   "metadata": {},
   "outputs": [
    {
     "data": {
      "text/plain": [
       "<matplotlib.image.AxesImage at 0x1a5ba3378e0>"
      ]
     },
     "execution_count": 99,
     "metadata": {},
     "output_type": "execute_result"
    },
    {
     "data": {
      "image/png": "[encoded data removed]",
      "text/plain": [
       "<Figure size 432x288 with 1 Axes>"
      ]
     },
     "metadata": {
      "needs_background": "light"
     },
     "output_type": "display_data"
    }
   ],
   "source": [
    "plt.imshow(scaled_matrices[0])"
   ]
  },
  {
   "cell_type": "markdown",
   "metadata": {},
   "source": [
    "# To do list\n",
    "Understanding of the Biopython tree data structure\n",
    "- Index tree with Zotu, return level\n",
    "\n",
    "Tree construction:\n",
    "- Determine what to do with edge weights. Ignore?\n",
    "- Determine ordering of matrix. Order \"taxons\" by iterating over all parents?\n",
    "- Map every Zotu abundance to a node in the tree\n",
    "- Many nodes will now be unpopulated\n",
    "- Populate these nodes by recursively summing their children\n",
    "- Create a lookup table, basically a dict where the keys is the node name and the value is the matrix index\n",
    "- populate_nodes() -> to_matrix()\n",
    "\n",
    "- Write recursive function, starting at root. Iterate over all nodes with recursive function. If node not in train_df, delete node from graph"
   ]
  }
 ],
 "metadata": {
  "kernelspec": {
   "display_name": "Python 3",
   "language": "python",
   "name": "python3"
  },
  "language_info": {
   "codemirror_mode": {
    "name": "ipython",
    "version": 3
   },
   "file_extension": ".py",
   "mimetype": "text/x-python",
   "name": "python",
   "nbconvert_exporter": "python",
   "pygments_lexer": "ipython3",
   "version": "3.8.5"
  }
 },
 "nbformat": 4,
 "nbformat_minor": 4
}
