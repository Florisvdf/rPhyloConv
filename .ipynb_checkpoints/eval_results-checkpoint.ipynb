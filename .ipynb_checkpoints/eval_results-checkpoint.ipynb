{
 "cells": [
  {
   "cell_type": "code",
   "execution_count": 14,
   "metadata": {},
   "outputs": [],
   "source": [
    "import numpy as np\n",
    "import pandas as pd\n",
    "\n",
    "from sklearn.metrics import roc_auc_score\n",
    "\n",
    "import matplotlib.pyplot as plt\n",
    "import seaborn as sns"
   ]
  },
  {
   "cell_type": "code",
   "execution_count": 27,
   "metadata": {},
   "outputs": [],
   "source": [
    "models = [\"rPhyloConv\", \"MLP\", \"XGBoost\", \"ExtraTrees\"]\n",
    "#models = [\"MLP\", \"XGBoost\", \"ExtraTrees\"]\n",
    "shuffles = list(range(1, 11))\n",
    "model_aucs_list = []\n",
    "for model in models:\n",
    "    auc_list = []\n",
    "    for shuffle in shuffles:\n",
    "        y_test = np.load(\"{}/output_data/y_test_{}.npy\".format(model, shuffle))\n",
    "        y_pred = np.load(\"{}/output_data/y_pred_test_{}.npy\".format(model, shuffle))\n",
    "        auc_score = roc_auc_score(y_test, y_pred)\n",
    "        auc_list.append(auc_score)\n",
    "    model_aucs_list.append(auc_list)\n",
    "\n",
    "model_aucs = np.array(model_aucs_list).transpose()\n",
    "\n",
    "model_auc_df = pd.DataFrame(data = model_aucs, index = shuffles, columns = models)"
   ]
  },
  {
   "cell_type": "code",
   "execution_count": 28,
   "metadata": {},
   "outputs": [
    {
     "data": {
      "text/plain": [
       "(10, 4)"
      ]
     },
     "execution_count": 28,
     "metadata": {},
     "output_type": "execute_result"
    }
   ],
   "source": [
    "model_aucs.shape"
   ]
  },
  {
   "cell_type": "code",
   "execution_count": 29,
   "metadata": {},
   "outputs": [
    {
     "data": {
      "text/html": [
       "<div>\n",
       "<style scoped>\n",
       "    .dataframe tbody tr th:only-of-type {\n",
       "        vertical-align: middle;\n",
       "    }\n",
       "\n",
       "    .dataframe tbody tr th {\n",
       "        vertical-align: top;\n",
       "    }\n",
       "\n",
       "    .dataframe thead th {\n",
       "        text-align: right;\n",
       "    }\n",
       "</style>\n",
       "<table border=\"1\" class=\"dataframe\">\n",
       "  <thead>\n",
       "    <tr style=\"text-align: right;\">\n",
       "      <th></th>\n",
       "      <th>rPhyloConv</th>\n",
       "      <th>MLP</th>\n",
       "      <th>XGBoost</th>\n",
       "      <th>ExtraTrees</th>\n",
       "    </tr>\n",
       "  </thead>\n",
       "  <tbody>\n",
       "    <tr>\n",
       "      <th>1</th>\n",
       "      <td>0.819263</td>\n",
       "      <td>0.730083</td>\n",
       "      <td>0.705113</td>\n",
       "      <td>0.818074</td>\n",
       "    </tr>\n",
       "    <tr>\n",
       "      <th>2</th>\n",
       "      <td>0.785969</td>\n",
       "      <td>0.793103</td>\n",
       "      <td>0.671819</td>\n",
       "      <td>0.762188</td>\n",
       "    </tr>\n",
       "    <tr>\n",
       "      <th>3</th>\n",
       "      <td>0.776457</td>\n",
       "      <td>0.806183</td>\n",
       "      <td>0.673008</td>\n",
       "      <td>0.831748</td>\n",
       "    </tr>\n",
       "    <tr>\n",
       "      <th>4</th>\n",
       "      <td>0.866825</td>\n",
       "      <td>0.813317</td>\n",
       "      <td>0.629013</td>\n",
       "      <td>0.828775</td>\n",
       "    </tr>\n",
       "    <tr>\n",
       "      <th>5</th>\n",
       "      <td>0.826397</td>\n",
       "      <td>0.765755</td>\n",
       "      <td>0.677765</td>\n",
       "      <td>0.771106</td>\n",
       "    </tr>\n",
       "    <tr>\n",
       "      <th>6</th>\n",
       "      <td>0.724138</td>\n",
       "      <td>0.466112</td>\n",
       "      <td>0.655172</td>\n",
       "      <td>0.699168</td>\n",
       "    </tr>\n",
       "    <tr>\n",
       "      <th>7</th>\n",
       "      <td>0.856124</td>\n",
       "      <td>0.771700</td>\n",
       "      <td>0.613555</td>\n",
       "      <td>0.753270</td>\n",
       "    </tr>\n",
       "    <tr>\n",
       "      <th>8</th>\n",
       "      <td>0.870392</td>\n",
       "      <td>0.755054</td>\n",
       "      <td>0.608799</td>\n",
       "      <td>0.773484</td>\n",
       "    </tr>\n",
       "    <tr>\n",
       "      <th>9</th>\n",
       "      <td>0.719382</td>\n",
       "      <td>0.818074</td>\n",
       "      <td>0.636147</td>\n",
       "      <td>0.777051</td>\n",
       "    </tr>\n",
       "    <tr>\n",
       "      <th>10</th>\n",
       "      <td>0.859691</td>\n",
       "      <td>0.750297</td>\n",
       "      <td>0.688466</td>\n",
       "      <td>0.833532</td>\n",
       "    </tr>\n",
       "  </tbody>\n",
       "</table>\n",
       "</div>"
      ],
      "text/plain": [
       "    rPhyloConv       MLP   XGBoost  ExtraTrees\n",
       "1     0.819263  0.730083  0.705113    0.818074\n",
       "2     0.785969  0.793103  0.671819    0.762188\n",
       "3     0.776457  0.806183  0.673008    0.831748\n",
       "4     0.866825  0.813317  0.629013    0.828775\n",
       "5     0.826397  0.765755  0.677765    0.771106\n",
       "6     0.724138  0.466112  0.655172    0.699168\n",
       "7     0.856124  0.771700  0.613555    0.753270\n",
       "8     0.870392  0.755054  0.608799    0.773484\n",
       "9     0.719382  0.818074  0.636147    0.777051\n",
       "10    0.859691  0.750297  0.688466    0.833532"
      ]
     },
     "execution_count": 29,
     "metadata": {},
     "output_type": "execute_result"
    }
   ],
   "source": [
    "model_auc_df"
   ]
  },
  {
   "cell_type": "code",
   "execution_count": 30,
   "metadata": {},
   "outputs": [
    {
     "data": {
      "text/plain": [
       "'\\nfor model in models:\\n    box_count += 1\\n    plt.figure(figsize = (10, 10))\\n    # plot boxplot with seaborn\\n    bplot = sns.boxplot(y = model, x = \\'class_label_verbal\\',\\n                     data=dataset_df,\\n                     width=0.5,\\n                     palette=\"colorblind\",\\n                     showfliers=False)\\n    # add stripplot to boxplot with Seaborn\\n    bplot=sns.stripplot(y=feat_name, x=\\'class_label_verbal\\',\\n                       data=dataset_df,\\n                       jitter=True,\\n                       marker=\\'o\\',\\n                       alpha=0.5,\\n                       color=\\'black\\')\\n    plot_file_name=\"output_data/boxplot\"+\"_\"+str(box_count)+\".png\"\\n    # save as jpeg\\n    bplot.figure.savefig(plot_file_name,\\n                        format=\\'png\\',\\n                        dpi=100)\\n'"
      ]
     },
     "execution_count": 30,
     "metadata": {},
     "output_type": "execute_result"
    },
    {
     "data": {
      "image/png": "[encoded data removed]",
      "text/plain": [
       "<Figure size 432x288 with 1 Axes>"
      ]
     },
     "metadata": {},
     "output_type": "display_data"
    }
   ],
   "source": [
    "sns.set_style(\"whitegrid\")\n",
    "ax = sns.boxplot(data = model_auc_df)"
   ]
  }
 ],
 "metadata": {
  "kernelspec": {
   "display_name": "Python 3",
   "language": "python",
   "name": "python3"
  },
  "language_info": {
   "codemirror_mode": {
    "name": "ipython",
    "version": 3
   },
   "file_extension": ".py",
   "mimetype": "text/x-python",
   "name": "python",
   "nbconvert_exporter": "python",
   "pygments_lexer": "ipython3",
   "version": "3.7.9"
  }
 },
 "nbformat": 4,
 "nbformat_minor": 4
}
